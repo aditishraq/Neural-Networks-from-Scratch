{
  "nbformat": 4,
  "nbformat_minor": 0,
  "metadata": {
    "colab": {
      "name": "Simple Neural Network",
      "provenance": [],
      "authorship_tag": "ABX9TyOvlNuMLC0m0oHbRxku0Oj8",
      "include_colab_link": true
    },
    "kernelspec": {
      "name": "python3",
      "display_name": "Python 3"
    }
  },
  "cells": [
    {
      "cell_type": "markdown",
      "metadata": {
        "id": "view-in-github",
        "colab_type": "text"
      },
      "source": [
        "<a href=\"https://colab.research.google.com/github/aditishraq/Neural-Networks-from-Scratch/blob/main/Simple_Neural_Network.ipynb\" target=\"_parent\"><img src=\"https://colab.research.google.com/assets/colab-badge.svg\" alt=\"Open In Colab\"/></a>"
      ]
    },
    {
      "cell_type": "code",
      "metadata": {
        "id": "5_0dEU0v-9jl"
      },
      "source": [
        "import numpy as np"
      ],
      "execution_count": 16,
      "outputs": []
    },
    {
      "cell_type": "code",
      "metadata": {
        "id": "PXfdxKSeAW3K"
      },
      "source": [
        "# Sigmoid function\r\n",
        "def nonlin(x, deriv = False):\r\n",
        "  if(deriv == True):\r\n",
        "    return x*(1-x)\r\n",
        "  return 1/(1+np.exp(-x))"
      ],
      "execution_count": 17,
      "outputs": []
    },
    {
      "cell_type": "code",
      "metadata": {
        "id": "5zMiD12j_C_P"
      },
      "source": [
        "X = np.array([\r\n",
        "              [0,0,1],\r\n",
        "              [0,1,1],\r\n",
        "              [0,1,0],\r\n",
        "              [1,1,1]\r\n",
        "])\r\n",
        "y = np.array([[0,0,1,1]]).T"
      ],
      "execution_count": 18,
      "outputs": []
    },
    {
      "cell_type": "code",
      "metadata": {
        "id": "813aFj8oAXn8"
      },
      "source": [
        "np.random.seed(1)"
      ],
      "execution_count": 19,
      "outputs": []
    },
    {
      "cell_type": "code",
      "metadata": {
        "id": "CI7wqr6e_Gv9"
      },
      "source": [
        "w0 = 2 * np.random.random((3,1)) - 1"
      ],
      "execution_count": 20,
      "outputs": []
    },
    {
      "cell_type": "code",
      "metadata": {
        "id": "ubBS7G3J_I4e",
        "colab": {
          "base_uri": "https://localhost:8080/"
        },
        "outputId": "d47b5c71-17cb-4a77-dbe2-fa1536dde499"
      },
      "source": [
        "for iter in range(10):\r\n",
        "  l0 = X\r\n",
        "  l1 = np.dot(l0, w0)\r\n",
        "  l1 = nonlin(l1)\r\n",
        "  l1_error = y - l1\r\n",
        "  delta_l1 = l1_error * nonlin(l1, True)\r\n",
        "  w0 = w0 + np.dot(l0.T, delta_l1)\r\n",
        "print(\"End of training. View the output\")\r\n",
        "print(l1)\r\n"
      ],
      "execution_count": 25,
      "outputs": [
        {
          "output_type": "stream",
          "text": [
            "End of training. View the output\n",
            "[[0.20494184]\n",
            " [0.43341037]\n",
            " [0.74795568]\n",
            " [0.64451171]]\n"
          ],
          "name": "stdout"
        }
      ]
    },
    {
      "cell_type": "code",
      "metadata": {
        "id": "OWmvG_blLoqn"
      },
      "source": [
        ""
      ],
      "execution_count": null,
      "outputs": []
    }
  ]
}